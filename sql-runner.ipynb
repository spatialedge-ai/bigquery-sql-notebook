{
 "cells": [
  {
   "cell_type": "markdown",
   "metadata": {},
   "source": [
    "# Git workflow for SQL queries"
   ]
  },
  {
   "cell_type": "code",
   "execution_count": null,
   "metadata": {},
   "outputs": [],
   "source": [
    "%%bash\n",
    "\n",
    "pip install analytics-mesh pyarrow ipywidgets --quiet\n",
    "pip install --upgrade 'google-cloud-bigquery[bqstorage,pandas]' --quiet"
   ]
  },
  {
   "cell_type": "code",
   "execution_count": null,
   "metadata": {},
   "outputs": [],
   "source": [
    "import utils\n",
    "import pandas as pd\n",
    "from IPython.display import display\n",
    "import ipywidgets as widgets\n",
    "%config Completer.use_jedi = False"
   ]
  },
  {
   "cell_type": "code",
   "execution_count": null,
   "metadata": {},
   "outputs": [],
   "source": [
    "## change defaults\n",
    "\n",
    "GCP_SERVICE_KEY_FILENAME = None\n",
    "PROJECT_NAME = 'spatialedge-training'"
   ]
  },
  {
   "cell_type": "code",
   "execution_count": null,
   "metadata": {},
   "outputs": [],
   "source": [
    "## Get Connected\n",
    "\n",
    "bqops = utils.BqState(PROJECT_NAME, GCP_SERVICE_KEY_FILENAME)\n",
    "print(\"Setup complete\")"
   ]
  },
  {
   "cell_type": "markdown",
   "metadata": {},
   "source": [
    "### SQL Dev Area\n",
    "\n"
   ]
  },
  {
   "cell_type": "code",
   "execution_count": null,
   "metadata": {},
   "outputs": [],
   "source": [
    "# Paste your sql query\n",
    "sql = r\"\"\"\n",
    "\n",
    "SELECT \n",
    "  TIMESTAMP(CONCAT(year,'-',mo,'-',da)) day, \n",
    "  AVG(min) min, AVG(max) max, \n",
    "  AVG(IF(prcp=99.99,0,prcp)) prcp\n",
    "FROM `bigquery-public-data.noaa_gsod.gsod1940`\n",
    "GROUP BY day\n",
    "ORDER BY day\n",
    "\n",
    "\n",
    "\"\"\"\n",
    "\n",
    "# Create sql query\n",
    "sql_query_id = bqops.register_query(sql)"
   ]
  },
  {
   "cell_type": "code",
   "execution_count": null,
   "metadata": {},
   "outputs": [],
   "source": [
    "## View all registered queries in case you want to rerun previous ones\n",
    "# bqops.query_reg"
   ]
  },
  {
   "cell_type": "markdown",
   "metadata": {},
   "source": [
    "### SQL Analysis Area"
   ]
  },
  {
   "cell_type": "code",
   "execution_count": null,
   "metadata": {},
   "outputs": [],
   "source": [
    "# Get dataframe (use identifier from registered_queries)\n",
    "df = bqops._load(sql_query_id)"
   ]
  },
  {
   "cell_type": "code",
   "execution_count": null,
   "metadata": {
    "tags": []
   },
   "outputs": [],
   "source": [
    "# Check your data\n",
    "df.head()"
   ]
  },
  {
   "cell_type": "markdown",
   "metadata": {},
   "source": [
    "### SQL Save Area"
   ]
  },
  {
   "cell_type": "code",
   "execution_count": null,
   "metadata": {
    "tags": []
   },
   "outputs": [],
   "source": [
    "input_name = widgets.Text(\n",
    "    value='Add-descriptive-query-name',\n",
    "    description='Name:'\n",
    ")\n",
    "button_save = widgets.Button(description=\"Save Query\")\n",
    "output = widgets.Output()\n",
    "\n",
    "display(input_name)\n",
    "display(button_save, output)\n",
    "\n",
    "def on_button_clicked(b):\n",
    "        with open(input_name.value + \".sql\", \"w\") as file:\n",
    "            file.write(sql)\n",
    "            file.close\n",
    "        with output:\n",
    "            print(\"Query saved\\nRemember to add & commit the sql file (\" + input_name.value + \".sql) to git\")\n",
    "\n",
    "button_save.on_click(on_button_clicked)"
   ]
  },
  {
   "cell_type": "markdown",
   "metadata": {},
   "source": [
    "### SQL History"
   ]
  },
  {
   "cell_type": "code",
   "execution_count": null,
   "metadata": {},
   "outputs": [],
   "source": [
    "# View full query history\n",
    "# bqops.history['queries']"
   ]
  },
  {
   "cell_type": "code",
   "execution_count": null,
   "metadata": {},
   "outputs": [],
   "source": []
  }
 ],
 "metadata": {
  "environment": {
   "kernel": "python3",
   "name": "common-cpu.m90",
   "type": "gcloud",
   "uri": "gcr.io/deeplearning-platform-release/base-cpu:m90"
  },
  "kernelspec": {
   "display_name": "mesh-pypi",
   "language": "python",
   "name": "mesh-pypi"
  },
  "language_info": {
   "codemirror_mode": {
    "name": "ipython",
    "version": 3
   },
   "file_extension": ".py",
   "mimetype": "text/x-python",
   "name": "python",
   "nbconvert_exporter": "python",
   "pygments_lexer": "ipython3",
   "version": "3.6.9"
  }
 },
 "nbformat": 4,
 "nbformat_minor": 4
}
